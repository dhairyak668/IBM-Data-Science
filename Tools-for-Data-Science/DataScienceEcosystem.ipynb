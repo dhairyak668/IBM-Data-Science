{
 "cells": [
  {
   "cell_type": "markdown",
   "id": "f4fbe598-69b1-4a67-89d1-eb29a3972238",
   "metadata": {
    "tags": []
   },
   "source": [
    "# Data Science Tools and Ecosystem"
   ]
  },
  {
   "cell_type": "markdown",
   "id": "0c792927-db55-46bc-b671-0059109eaf4b",
   "metadata": {
    "tags": []
   },
   "source": [
    "In this notebook, Data Science Tools and Ecosystem are summarized.\n"
   ]
  },
  {
   "cell_type": "markdown",
   "id": "469e5c50-6e34-4f29-a63b-d04bc414e31a",
   "metadata": {},
   "source": [
    "Some of the popular languages that Data Scientists use are:\n",
    "1. Python\n",
    "2. R\n",
    "3. SQL"
   ]
  },
  {
   "cell_type": "markdown",
   "id": "a00a3c2f-5a16-45fb-bb30-931e75a0336c",
   "metadata": {},
   "source": [
    "Some of the commonly used libraries used by Data Scientists include:\n",
    "1. NumPy\n",
    "2. Pandas\n",
    "3. Matplotlib"
   ]
  },
  {
   "cell_type": "markdown",
   "id": "ac1be08d-86e0-4c04-bfdb-cea3d57f0001",
   "metadata": {},
   "source": [
    "| Data Science Tools |\n",
    "|---------------------|\n",
    "| Jupyter Notebook    |\n",
    "| RStudio             |\n",
    "| Spyder              |"
   ]
  },
  {
   "cell_type": "markdown",
   "id": "dd837644-f4f6-4c05-a05e-03b2fb5f28f3",
   "metadata": {},
   "source": [
    "### Below are a few examples of evaluating arithmetic expressions in Python."
   ]
  },
  {
   "cell_type": "code",
   "execution_count": 6,
   "id": "569ca965-b334-4289-b03c-562d0ba72e4f",
   "metadata": {
    "tags": []
   },
   "outputs": [
    {
     "data": {
      "text/plain": [
       "17"
      ]
     },
     "execution_count": 6,
     "metadata": {},
     "output_type": "execute_result"
    }
   ],
   "source": [
    "#This a simple arithmetic expression to multiply then add integers.\n",
    "result = (3 * 4) + 5\n",
    "result"
   ]
  },
  {
   "cell_type": "code",
   "execution_count": 8,
   "id": "b6471351-ed26-434a-b79a-48d454a76d6f",
   "metadata": {
    "tags": []
   },
   "outputs": [
    {
     "data": {
      "text/plain": [
       "3.33"
      ]
     },
     "execution_count": 8,
     "metadata": {},
     "output_type": "execute_result"
    }
   ],
   "source": [
    "# This will convert 200 minutes to hours by dividing by 60.\n",
    "hours = 200 / 60\n",
    "round(hours,2)"
   ]
  },
  {
   "cell_type": "markdown",
   "id": "ec8d3209-b40d-4a73-a1f6-1099a0e98edc",
   "metadata": {},
   "source": [
    "**Objectives:**\n",
    "- List popular languages for Data Science\n",
    "- Introduce common libraries in Data Science\n",
    "- Discuss tools used in Data Science"
   ]
  },
  {
   "cell_type": "markdown",
   "id": "8a63286c-6ce5-41b8-813f-5a9baca0f91a",
   "metadata": {},
   "source": [
    "## Author\n",
    "Dhairya Kachalia"
   ]
  },
  {
   "cell_type": "code",
   "execution_count": null,
   "id": "8b7d7f6f-f7b5-4c08-8d94-c474f5bbd7f6",
   "metadata": {},
   "outputs": [],
   "source": []
  }
 ],
 "metadata": {
  "kernelspec": {
   "display_name": "Python",
   "language": "python",
   "name": "conda-env-python-py"
  },
  "language_info": {
   "codemirror_mode": {
    "name": "ipython",
    "version": 3
   },
   "file_extension": ".py",
   "mimetype": "text/x-python",
   "name": "python",
   "nbconvert_exporter": "python",
   "pygments_lexer": "ipython3",
   "version": "3.7.12"
  }
 },
 "nbformat": 4,
 "nbformat_minor": 5
}
